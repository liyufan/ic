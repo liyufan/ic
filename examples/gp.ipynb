{
 "cells": [
  {
   "cell_type": "code",
   "execution_count": null,
   "metadata": {},
   "outputs": [],
   "source": [
    "from torch.backends import cudnn\n",
    "import torch\n",
    "from transformers.utils import IMAGENET_DEFAULT_MEAN, IMAGENET_DEFAULT_STD\n",
    "from torchvision.datasets import ImageFolder\n",
    "import torchvision.transforms.v2 as transforms\n",
    "import torchvision\n",
    "import sys\n",
    "import os\n",
    "\n",
    "sys.path.append('../..')\n",
    "\n",
    "normalize = transforms.Normalize(\n",
    "    mean=IMAGENET_DEFAULT_MEAN,\n",
    "    std=IMAGENET_DEFAULT_STD,\n",
    ")\n",
    "\n",
    "train_augs = transforms.Compose(\n",
    "    [\n",
    "        transforms.RandomResizedCrop(224),\n",
    "        transforms.RandomHorizontalFlip(),\n",
    "        transforms.ToImageTensor(),\n",
    "        transforms.ConvertImageDtype(),\n",
    "        normalize,\n",
    "    ]\n",
    ")\n",
    "\n",
    "\n",
    "test_augs = transforms.Compose(\n",
    "    [\n",
    "        transforms.Resize(256),\n",
    "        transforms.CenterCrop(224),\n",
    "        transforms.ToImageTensor(),\n",
    "        transforms.ConvertImageDtype(),\n",
    "        normalize,\n",
    "    ]\n",
    ")\n",
    "train_set = ImageFolder('/path/to/dataset/train', transform=train_augs)\n",
    "test_set = ImageFolder('/path/to/dataset/val', transform=test_augs)\n",
    "train_set.class_to_idx"
   ]
  },
  {
   "cell_type": "code",
   "execution_count": null,
   "metadata": {},
   "outputs": [],
   "source": [
    "from ic.train import utils\n",
    "\n",
    "\n",
    "config = {\n",
    "    \"n_epochs\": 100,\n",
    "    \"data_loader\": {\"batch_size\": 200, \"num_workers\": 16, \"pin_memory\": True},\n",
    "    \"optimizer\": \"Adam\",\n",
    "    \"optim_hparas\": {\"lr\": 1e-2, \"weight_decay\": 1e-4},\n",
    "    \"weights\": \"google/vit-base-patch16-224-in21k\",\n",
    "}\n",
    "\n",
    "config[\"optim_hparas\"][\"lr\"] = (\n",
    "    1e-4 if config[\"weights\"] else config[\"optim_hparas\"][\"lr\"]\n",
    ")\n",
    "train_loader, test_loader = utils.create_data_loaders(config, train_set, test_set)\n",
    "len(train_set), len(test_set)"
   ]
  },
  {
   "cell_type": "code",
   "execution_count": null,
   "metadata": {},
   "outputs": [],
   "source": [
    "from ic.models import *\n",
    "import gpytorch\n",
    "\n",
    "\n",
    "fe = ResNetFeatureExtractor(101, True)\n",
    "# fe = HuggingFaceViTFeatureExtractor(config[\"weights\"])\n",
    "model = DKLModel(fe, utils.get_feature_dim(fe))\n",
    "likelihood = gpytorch.likelihoods.SoftmaxLikelihood(\n",
    "    num_features=model.num_dim, num_classes=3\n",
    ")\n",
    "config[\"criterion\"] = gpytorch.mlls.VariationalELBO(\n",
    "    likelihood, model.gp_layer, num_data=len(train_loader.dataset)\n",
    ")"
   ]
  },
  {
   "cell_type": "code",
   "execution_count": null,
   "metadata": {},
   "outputs": [],
   "source": [
    "cudnn.benchmark = True\n",
    "if __name__ == \"__main__\":\n",
    "    utils.train_distributed_dkl(\n",
    "        \"tcp://localhost:23456\", config, model, likelihood, train_set, test_set, \"cuda\"\n",
    "    )"
   ]
  }
 ],
 "metadata": {
  "kernelspec": {
   "display_name": "torch",
   "language": "python",
   "name": "python3"
  },
  "language_info": {
   "codemirror_mode": {
    "name": "ipython",
    "version": 3
   },
   "file_extension": ".py",
   "mimetype": "text/x-python",
   "name": "python",
   "nbconvert_exporter": "python",
   "pygments_lexer": "ipython3",
   "version": "3.11.3"
  },
  "orig_nbformat": 4
 },
 "nbformat": 4,
 "nbformat_minor": 2
}
